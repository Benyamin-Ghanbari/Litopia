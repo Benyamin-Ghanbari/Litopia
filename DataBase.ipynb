{
 "cells": [
  {
   "cell_type": "code",
   "execution_count": 85,
   "id": "daed80c8",
   "metadata": {},
   "outputs": [],
   "source": [
    "import pandas as pd\n",
    "import mysql.connector"
   ]
  },
  {
   "cell_type": "markdown",
   "id": "00c149ba",
   "metadata": {},
   "source": [
    "# import dataframs"
   ]
  },
  {
   "cell_type": "code",
   "execution_count": 86,
   "id": "b82d489e",
   "metadata": {},
   "outputs": [],
   "source": [
    "product_table = pd.read_csv('Product.csv')\n",
    "product_table.drop('Unnamed: 0', axis = 1, inplace = True)"
   ]
  },
  {
   "cell_type": "code",
   "execution_count": 87,
   "id": "ab2b609d",
   "metadata": {},
   "outputs": [],
   "source": [
    "order_table = pd.read_csv('Order.csv')\n",
    "order_table.drop('Unnamed: 0', axis = 1, inplace = True)"
   ]
  },
  {
   "cell_type": "code",
   "execution_count": 88,
   "id": "30e6f82b",
   "metadata": {},
   "outputs": [],
   "source": [
    "manufacturer_table = pd.read_csv('Manufacturer.csv')\n",
    "manufacturer_table.drop('Unnamed: 0', axis = 1, inplace = True)"
   ]
  },
  {
   "cell_type": "code",
   "execution_count": 89,
   "id": "dcb6578a",
   "metadata": {},
   "outputs": [],
   "source": [
    "branch_table = pd.read_csv('Branch.csv')\n",
    "branch_table.drop('Unnamed: 0', axis = 1, inplace = True)"
   ]
  },
  {
   "cell_type": "code",
   "execution_count": 90,
   "id": "998ef7ea",
   "metadata": {},
   "outputs": [],
   "source": [
    "os_table = pd.read_csv('OS.csv')\n",
    "os_table.drop('Unnamed: 0', axis = 1, inplace = True)"
   ]
  },
  {
   "cell_type": "code",
   "execution_count": 91,
   "id": "d96f627b",
   "metadata": {},
   "outputs": [],
   "source": [
    "os_ver_table = pd.read_csv('OS_Version.csv')\n",
    "os_ver_table.drop('Unnamed: 0', axis = 1, inplace = True)\n",
    "os_ver_table.fillna('null', inplace = True)"
   ]
  },
  {
   "cell_type": "code",
   "execution_count": 92,
   "id": "e877616e",
   "metadata": {},
   "outputs": [],
   "source": [
    "category_table = pd.read_csv('Category.csv')\n",
    "category_table.drop('Unnamed: 0', axis = 1, inplace = True)"
   ]
  },
  {
   "cell_type": "code",
   "execution_count": 93,
   "id": "2a8ae213",
   "metadata": {},
   "outputs": [],
   "source": [
    "screen_table = pd.read_csv('Screen_Type.csv')\n",
    "screen_table.drop('Unnamed: 0', axis = 1, inplace = True)"
   ]
  },
  {
   "cell_type": "code",
   "execution_count": 94,
   "id": "968841fe",
   "metadata": {},
   "outputs": [],
   "source": [
    "cpu_table = pd.read_csv('CPU.csv')\n",
    "cpu_table.drop('Unnamed: 0', axis = 1, inplace = True)"
   ]
  },
  {
   "cell_type": "code",
   "execution_count": 95,
   "id": "2533bcf1",
   "metadata": {},
   "outputs": [],
   "source": [
    "gpu_table = pd.read_csv('GPU.csv')\n",
    "gpu_table.drop('Unnamed: 0', axis = 1, inplace = True)\n",
    "gpu_table.fillna('null', inplace = True)"
   ]
  },
  {
   "cell_type": "code",
   "execution_count": 96,
   "id": "e4916b8e",
   "metadata": {},
   "outputs": [],
   "source": [
    "priority_table = pd.read_csv('Priority.csv')\n",
    "priority_table.drop('Unnamed: 0', axis = 1, inplace = True)"
   ]
  },
  {
   "cell_type": "code",
   "execution_count": 97,
   "id": "3d833e50",
   "metadata": {},
   "outputs": [],
   "source": [
    "price_table = pd.read_csv('Price.csv')\n",
    "price_table.drop('Unnamed: 0', axis = 1, inplace = True)"
   ]
  },
  {
   "cell_type": "markdown",
   "id": "f7699879",
   "metadata": {},
   "source": [
    "# SQL"
   ]
  },
  {
   "cell_type": "code",
   "execution_count": 98,
   "id": "eb7936f2",
   "metadata": {},
   "outputs": [],
   "source": [
    "mydb = mysql.connector.connect(\n",
    "  host=\"localhost\",\n",
    "  user=\"root\",\n",
    "  password=\"a*7EE166B4\")\n",
    "mycursor = mydb.cursor()\n",
    "mycursor.execute(\"CREATE DATABASE Litopia\")"
   ]
  },
  {
   "cell_type": "code",
   "execution_count": 99,
   "id": "6104c4e5",
   "metadata": {},
   "outputs": [],
   "source": [
    "mydb = mysql.connector.connect(\n",
    "   host=\"localhost\",\n",
    "  user=\"root\",\n",
    "  password=\"a*7EE166B4\",\n",
    "  database=\"Litopia\")\n",
    "mycursor = mydb.cursor()"
   ]
  },
  {
   "cell_type": "code",
   "execution_count": 100,
   "id": "44c54c64",
   "metadata": {},
   "outputs": [],
   "source": [
    "def insert(sql, df):\n",
    "    cols = list(df.columns)\n",
    "    rec = list()\n",
    "    for i in range(df.shape[0]):\n",
    "        rec = list()\n",
    "        for c in cols:\n",
    "            col_type = str(df[c].dtype)\n",
    "            if col_type == 'int64':\n",
    "                r = int(df[c][i])\n",
    "            elif col_type == 'float64':\n",
    "                r = float(df[c][i])\n",
    "            else:\n",
    "                r = df[c][i]\n",
    "            rec.append(r)\n",
    "        record = tuple(rec)\n",
    "        mycursor.execute(sql, record)\n",
    "    mydb.commit()  "
   ]
  },
  {
   "cell_type": "markdown",
   "id": "37f06175",
   "metadata": {},
   "source": [
    "# manufacturer"
   ]
  },
  {
   "cell_type": "code",
   "execution_count": 101,
   "id": "a05731c4",
   "metadata": {},
   "outputs": [],
   "source": [
    "mycursor.execute('create table Manufacturer(ID int primary key, Manufacturer_Name varchar(20))')"
   ]
  },
  {
   "cell_type": "code",
   "execution_count": 102,
   "id": "09b31aa1",
   "metadata": {},
   "outputs": [],
   "source": [
    "sql = 'insert into Manufacturer(ID, Manufacturer_Name) values(%s, %s)'\n",
    "insert(sql, manufacturer_table)"
   ]
  },
  {
   "cell_type": "markdown",
   "id": "5b68e396",
   "metadata": {},
   "source": [
    "# category"
   ]
  },
  {
   "cell_type": "code",
   "execution_count": 103,
   "id": "5a47d632",
   "metadata": {},
   "outputs": [],
   "source": [
    "mycursor.execute('create table Category(ID int primary key, Category_Name varchar(30))')"
   ]
  },
  {
   "cell_type": "code",
   "execution_count": 104,
   "id": "5fe8c5bc",
   "metadata": {},
   "outputs": [],
   "source": [
    "sql = 'insert into Category(ID, Category_Name) values(%s, %s)'\n",
    "insert(sql, category_table)"
   ]
  },
  {
   "cell_type": "markdown",
   "id": "e9495b74",
   "metadata": {},
   "source": [
    "# screen_type"
   ]
  },
  {
   "cell_type": "code",
   "execution_count": 105,
   "id": "d46a1d68",
   "metadata": {},
   "outputs": [],
   "source": [
    "mycursor.execute('create table Screen_Type(ID int primary key, Screen_Type varchar(50))')"
   ]
  },
  {
   "cell_type": "code",
   "execution_count": 106,
   "id": "feb7df17",
   "metadata": {},
   "outputs": [],
   "source": [
    "sql = 'insert into Screen_Type(ID, Screen_Type) values(%s, %s)'\n",
    "insert(sql, screen_table)"
   ]
  },
  {
   "cell_type": "markdown",
   "id": "ebb917f2",
   "metadata": {},
   "source": [
    "# CPU"
   ]
  },
  {
   "cell_type": "code",
   "execution_count": 107,
   "id": "dc4c6517",
   "metadata": {},
   "outputs": [],
   "source": [
    "mycursor.execute('create table CPU(ID int primary key, CPU_info varchar(50), CPU_Brand varchar(11), CPU_Model varchar(40), CPU_Speed decimal(4,2))')"
   ]
  },
  {
   "cell_type": "code",
   "execution_count": 108,
   "id": "1058949c",
   "metadata": {},
   "outputs": [],
   "source": [
    "sql = 'insert into CPU() values(%s, %s, %s, %s, %s)'\n",
    "insert(sql, cpu_table)"
   ]
  },
  {
   "cell_type": "markdown",
   "id": "9d7fcf05",
   "metadata": {},
   "source": [
    "# GPU"
   ]
  },
  {
   "cell_type": "code",
   "execution_count": 109,
   "id": "ac1e6417",
   "metadata": {},
   "outputs": [],
   "source": [
    "mycursor.execute('create table GPU(ID int primary key, GPU_info varchar(50), GPU_Brand varchar(11), GPU_Kind varchar(11), GPU_Model varchar(20))')"
   ]
  },
  {
   "cell_type": "code",
   "execution_count": 110,
   "id": "619f1218",
   "metadata": {},
   "outputs": [],
   "source": [
    "sql = 'insert into GPU() values(%s, %s, %s, %s, %s)'\n",
    "insert(sql, gpu_table)"
   ]
  },
  {
   "cell_type": "markdown",
   "id": "6f4286a7",
   "metadata": {},
   "source": [
    "# OS"
   ]
  },
  {
   "cell_type": "code",
   "execution_count": 111,
   "id": "e5b33c91",
   "metadata": {},
   "outputs": [],
   "source": [
    "mycursor.execute('create table OS(ID int primary key, OS_info varchar(20))')"
   ]
  },
  {
   "cell_type": "code",
   "execution_count": 112,
   "id": "ebeb96cf",
   "metadata": {},
   "outputs": [],
   "source": [
    "sql = 'insert into OS(ID, OS_info) values(%s, %s)'\n",
    "insert(sql, os_table)"
   ]
  },
  {
   "cell_type": "markdown",
   "id": "b56c4e43",
   "metadata": {},
   "source": [
    "# os version"
   ]
  },
  {
   "cell_type": "code",
   "execution_count": 113,
   "id": "ad191ae3",
   "metadata": {},
   "outputs": [],
   "source": [
    "mycursor.execute('create table OS_Version(ID int primary key, OS_Version varchar(8))')"
   ]
  },
  {
   "cell_type": "code",
   "execution_count": 114,
   "id": "bbfa1e23",
   "metadata": {},
   "outputs": [],
   "source": [
    "sql = 'insert into OS_Version(ID, OS_Version) values(%s, %s)'\n",
    "insert(sql, os_ver_table)"
   ]
  },
  {
   "cell_type": "markdown",
   "id": "b48eda0c",
   "metadata": {},
   "source": [
    "# branch"
   ]
  },
  {
   "cell_type": "code",
   "execution_count": 115,
   "id": "8e10ce72",
   "metadata": {},
   "outputs": [],
   "source": [
    "mycursor.execute('create table Branch(ID int primary key, Branch_Name varchar(11))')"
   ]
  },
  {
   "cell_type": "code",
   "execution_count": 116,
   "id": "fc1d3bfa",
   "metadata": {},
   "outputs": [],
   "source": [
    "sql = 'insert into Branch(ID, Branch_Name) values(%s, %s)'\n",
    "insert(sql, branch_table)"
   ]
  },
  {
   "cell_type": "markdown",
   "id": "8ad7ad2a",
   "metadata": {},
   "source": [
    "# priority"
   ]
  },
  {
   "cell_type": "code",
   "execution_count": 117,
   "id": "34bc28b2",
   "metadata": {},
   "outputs": [],
   "source": [
    "mycursor.execute('create table Priority(ID int primary key, Priority varchar(8))')"
   ]
  },
  {
   "cell_type": "code",
   "execution_count": 118,
   "id": "325ed2c9",
   "metadata": {},
   "outputs": [],
   "source": [
    "sql = 'insert into Priority(ID, Priority) values(%s, %s)'\n",
    "insert(sql, priority_table)"
   ]
  },
  {
   "cell_type": "markdown",
   "id": "0f48ce72",
   "metadata": {},
   "source": [
    "# product"
   ]
  },
  {
   "cell_type": "code",
   "execution_count": 119,
   "id": "ac31114a",
   "metadata": {},
   "outputs": [],
   "source": [
    "mycursor.execute('create table Product(\\\n",
    "ID int primary key auto_increment,\\\n",
    "Model_Name varchar(50),\\\n",
    "Manufacturer_ID int,\\\n",
    "Category_ID int,\\\n",
    "Screen_Size decimal(3,1),\\\n",
    "Screen_Type_ID int,\\\n",
    "RAM tinyint,\\\n",
    "CPU_ID int,\\\n",
    "GPU_ID int,\\\n",
    "SSD_Storage int,\\\n",
    "HDD_Storage int,\\\n",
    "Weight decimal(3,2),\\\n",
    "OS_ID int,\\\n",
    "OS_Version_ID int,\\\n",
    "FOREIGN KEY (Manufacturer_ID) REFERENCES Manufacturer(ID),\\\n",
    "FOREIGN KEY (Category_ID) REFERENCES Category(ID),\\\n",
    "FOREIGN KEY (Screen_Type_ID) REFERENCES Screen_Type(ID),\\\n",
    "FOREIGN KEY (CPU_ID) REFERENCES CPU(ID),\\\n",
    "FOREIGN KEY (GPU_ID) REFERENCES GPU(ID),\\\n",
    "FOREIGN KEY (OS_ID) REFERENCES OS(ID),\\\n",
    "FOREIGN KEY (OS_Version_ID) REFERENCES OS_Version(ID))')"
   ]
  },
  {
   "cell_type": "code",
   "execution_count": 120,
   "id": "74dcad65",
   "metadata": {},
   "outputs": [],
   "source": [
    "sql = 'insert into Product(Model_Name, Manufacturer_ID, Category_ID, Screen_Size, Screen_Type_ID, RAM,\\\n",
    "CPU_ID, GPU_ID, SSD_Storage, HDD_Storage, Weight, OS_ID, OS_version_ID)\\\n",
    "values(%s, %s, %s, %s, %s, %s, %s, %s, %s, %s, %s, %s, %s)'\n",
    "insert(sql, product_table.drop('ID', axis = 1))"
   ]
  },
  {
   "cell_type": "markdown",
   "id": "0a965aca",
   "metadata": {},
   "source": [
    "# order"
   ]
  },
  {
   "cell_type": "code",
   "execution_count": 121,
   "id": "5afd1175",
   "metadata": {},
   "outputs": [
    {
     "data": {
      "text/plain": [
       "Index(['Order_ID', 'Branch_ID', 'Product_ID', 'Order_Date', 'Date',\n",
       "       'Total_Price', 'Priority_ID', 'Quantity', 'Profit', 'Ship_Duration'],\n",
       "      dtype='object')"
      ]
     },
     "execution_count": 121,
     "metadata": {},
     "output_type": "execute_result"
    }
   ],
   "source": [
    "order_table.columns"
   ]
  },
  {
   "cell_type": "code",
   "execution_count": 122,
   "id": "2c1e10fe",
   "metadata": {},
   "outputs": [],
   "source": [
    "mycursor.execute('create table Orders(\\\n",
    "ID int primary key,\\\n",
    "Branch_ID int,\\\n",
    "Product_ID int,\\\n",
    "Order_Date varchar(10),\\\n",
    "Date date,\\\n",
    "Total_Price int,\\\n",
    "Priority_ID int,\\\n",
    "Quantity int,\\\n",
    "Profit int,\\\n",
    "Ship_Duration int,\\\n",
    "FOREIGN KEY (Branch_ID) REFERENCES Branch(ID),\\\n",
    "FOREIGN KEY (Product_ID) REFERENCES Product(ID),\\\n",
    "FOREIGN KEY (Priority_ID) REFERENCES Priority(ID))')"
   ]
  },
  {
   "cell_type": "code",
   "execution_count": 123,
   "id": "d8b61764",
   "metadata": {},
   "outputs": [],
   "source": [
    "sql = 'insert into Orders() values(%s, %s, %s, %s, %s, %s, %s, %s, %s, %s)'\n",
    "insert(sql, order_table)"
   ]
  },
  {
   "cell_type": "markdown",
   "id": "bd12c5dd",
   "metadata": {},
   "source": [
    "# price"
   ]
  },
  {
   "cell_type": "code",
   "execution_count": 124,
   "id": "39718c87",
   "metadata": {},
   "outputs": [],
   "source": [
    "mycursor.execute('create table Price(\\\n",
    "ID int primary key auto_increment,\\\n",
    "Product_ID int,\\\n",
    "Date date,\\\n",
    "Price int,\\\n",
    "Discount int,\\\n",
    "FOREIGN KEY (Product_ID) REFERENCES Product(ID))')"
   ]
  },
  {
   "cell_type": "code",
   "execution_count": 125,
   "id": "b011b191",
   "metadata": {},
   "outputs": [],
   "source": [
    "sql = 'insert into Price(Product_ID, Date, Price, Discount) values(%s, %s, %s, %s)'\n",
    "insert(sql, price_table)"
   ]
  },
  {
   "cell_type": "code",
   "execution_count": null,
   "id": "fe84f132",
   "metadata": {},
   "outputs": [],
   "source": []
  }
 ],
 "metadata": {
  "kernelspec": {
   "display_name": "Python 3 (ipykernel)",
   "language": "python",
   "name": "python3"
  },
  "language_info": {
   "codemirror_mode": {
    "name": "ipython",
    "version": 3
   },
   "file_extension": ".py",
   "mimetype": "text/x-python",
   "name": "python",
   "nbconvert_exporter": "python",
   "pygments_lexer": "ipython3",
   "version": "3.11.3"
  }
 },
 "nbformat": 4,
 "nbformat_minor": 5
}
