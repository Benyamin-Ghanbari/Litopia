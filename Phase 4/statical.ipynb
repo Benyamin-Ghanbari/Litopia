{
 "cells": [
  {
   "cell_type": "code",
   "execution_count": 1,
   "id": "0dd72eec",
   "metadata": {},
   "outputs": [],
   "source": [
    "import pandas as pd\n",
    "import mysql.connector\n",
    "from scipy.stats import ttest_ind\n",
    "import numpy as np\n",
    "import matplotlib.pyplot as plt\n",
    "import seaborn as sns\n",
    "from scipy import stats\n"
   ]
  },
  {
   "cell_type": "markdown",
   "id": "8ef96859",
   "metadata": {},
   "source": [
    "## Connecting to DataBase"
   ]
  },
  {
   "cell_type": "code",
   "execution_count": 2,
   "id": "ca3598ff",
   "metadata": {},
   "outputs": [],
   "source": [
    "db = mysql.connector.connect(\n",
    "   host=\"\",\n",
    "  user=\"\",\n",
    "  password=\"\",\n",
    "  database=\"Litopia\")\n",
    "mycursor = db.cursor()"
   ]
  },
  {
   "cell_type": "markdown",
   "id": "bd065118",
   "metadata": {},
   "source": [
    "# 2 : Impact of discount on Sales"
   ]
  },
  {
   "cell_type": "code",
   "execution_count": 240,
   "id": "a2ddfec0",
   "metadata": {},
   "outputs": [],
   "source": [
    "sql_query = \"\"\"\n",
    "SELECT\n",
    "    o.Quantity,\n",
    "    o.discount,\n",
    "    o.Price\n",
    "FROM product AS p\n",
    "INNER JOIN orders AS o ON p.ID = o.Product_ID;\n",
    "\"\"\"\n",
    "mycursor.execute(sql_query)"
   ]
  },
  {
   "cell_type": "code",
   "execution_count": 241,
   "id": "3c1f90ec",
   "metadata": {},
   "outputs": [],
   "source": [
    "columns = [i[0] for i in mycursor.description]\n",
    "result = mycursor.fetchall()\n",
    "laptop_df= pd.DataFrame(result, columns=columns)\n"
   ]
  },
  {
   "cell_type": "code",
   "execution_count": 242,
   "id": "55189842",
   "metadata": {
    "scrolled": true
   },
   "outputs": [],
   "source": [
    "discount_df = laptop_df[(laptop_df['discount'] > 0) ]\n",
    "without_discount_df = laptop_df[(laptop_df['discount'] == 0)]\n",
    "discount_sample = discount_df.sample(n=100000,random_state=4)\n",
    "without_discount_sample = without_discount_df.sample(n=100000,random_state=4)"
   ]
  },
  {
   "cell_type": "code",
   "execution_count": 249,
   "id": "ebf30c32",
   "metadata": {},
   "outputs": [
    {
     "name": "stdout",
     "output_type": "stream",
     "text": [
      "110694 110606\n"
     ]
    }
   ],
   "source": [
    "print(without_discount_sample['Quantity'].sum(),discount_sample['Quantity'].sum())"
   ]
  },
  {
   "cell_type": "markdown",
   "id": "dc50c6d9",
   "metadata": {},
   "source": [
    "## Total Quantity :\n",
    "- With Discouint : 110606\n",
    "- Without Discount: 110694"
   ]
  },
  {
   "cell_type": "code",
   "execution_count": 245,
   "id": "b91dc8ef",
   "metadata": {},
   "outputs": [
    {
     "name": "stdout",
     "output_type": "stream",
     "text": [
      "1.105427429675869 1.1064411244853478\n"
     ]
    }
   ],
   "source": [
    "print(discount_df['Quantity'].mean(),without_discount_df['Quantity'].mean())"
   ]
  },
  {
   "cell_type": "markdown",
   "id": "aa4a561a",
   "metadata": {},
   "source": [
    "## Avg Quantity : \n",
    "- With Discount :1.105427429675869 \n",
    "- Without Discount : 1.1064411244853478"
   ]
  },
  {
   "cell_type": "code",
   "execution_count": 246,
   "id": "ee2214a8",
   "metadata": {},
   "outputs": [],
   "source": [
    "quantity_discount= discount_sample ['Quantity'].tolist()\n",
    "quantity_without_discount = without_discount_sample['Quantity'].tolist()\n",
    "quantity_discount = [int(item) for item in quantity_discount ]\n",
    "quantity_without_discount = [int(item) for item in quantity_without_discount ]"
   ]
  },
  {
   "cell_type": "code",
   "execution_count": 247,
   "id": "4a5550a7",
   "metadata": {},
   "outputs": [
    {
     "name": "stdout",
     "output_type": "stream",
     "text": [
      "T-Statistic: 0.5408065211877862\n",
      "P-Value: 0.5886415498384536\n"
     ]
    }
   ],
   "source": [
    "t_statistic, p_value = ttest_ind(quantity_without_discount,quantity_discount, equal_var=True)\n",
    "print(\"T-Statistic:\", t_statistic)\n",
    "print(\"P-Value:\", p_value)"
   ]
  },
  {
   "cell_type": "markdown",
   "id": "09533032",
   "metadata": {},
   "source": [
    "## T-Statistic:\n",
    "- The t-statistic measures the difference between the means of the two groups (quantity with discounts and quantity without discounts) relative to the variation within each group. \n",
    "- A t-statistic of 0.5408 suggests that the difference in quantity is not significantly large.\n",
    "\n",
    "## P-Value:\n",
    "- The p-value represents the probability that you would observe the data you have if there were no real difference between the groups. In this case, a p-value of 0.5886 is relatively high. It means that there is a 58.86% chance of observing these results (or more extreme results) if there were no significant difference in the quantities between the two groups.\n",
    "\n",
    "- Since the p-value is greater than a typical significance level of 0.05 (a commonly chosen value), you would fail to reject the null hypothesis. The null hypothesis (H0) in this context would be that there is no significant difference in the quantities of items sold with and without discounts."
   ]
  },
  {
   "cell_type": "markdown",
   "id": "77fdbffd",
   "metadata": {},
   "source": [
    "# 3 : Impact of discount on profit "
   ]
  },
  {
   "cell_type": "markdown",
   "id": "5cdc1b1e",
   "metadata": {},
   "source": [
    "- I used the profit percentage relative to the original price for better accuracy :(Profit/Total_price)*100 "
   ]
  },
  {
   "cell_type": "code",
   "execution_count": 257,
   "id": "7abe4a3e",
   "metadata": {},
   "outputs": [],
   "source": [
    "sql_query = \"\"\"\n",
    "SELECT p.Model_Name, (o.Profit/o.Total_price)*100 as Profit, o.discount, o.Total_price\n",
    "FROM product AS p\n",
    "INNER JOIN orders AS o ON p.ID = o.Product_ID\n",
    "WHERE o.Total_price > o.Profit \n",
    "\"\"\"\n",
    "mycursor.execute(sql_query)\n"
   ]
  },
  {
   "cell_type": "code",
   "execution_count": 258,
   "id": "7fb6711c",
   "metadata": {},
   "outputs": [],
   "source": [
    "columns = [i[0] for i in mycursor.description]\n",
    "result = mycursor.fetchall()\n",
    "df= pd.DataFrame(result, columns=columns)\n"
   ]
  },
  {
   "cell_type": "code",
   "execution_count": 259,
   "id": "e6259a11",
   "metadata": {},
   "outputs": [],
   "source": [
    "df_discount = df[df['discount']>0]\n",
    "df_without_discount=df[df['discount']==0]\n",
    "discount_sample = df_discount.sample(n=100000,random_state=4)\n",
    "without_sample = df_without_discount.sample(n=100000,random_state=4)"
   ]
  },
  {
   "cell_type": "code",
   "execution_count": 260,
   "id": "ff48dda8",
   "metadata": {},
   "outputs": [],
   "source": [
    "profit_discount= discount_sample ['Profit'].tolist()\n",
    "profit_without_discount =without_sample ['Profit'].tolist()\n",
    "profit_discount = [float(item) for item in profit_discount ]\n",
    "profit_without_discount = [float(item) for item in profit_without_discount ]"
   ]
  },
  {
   "cell_type": "code",
   "execution_count": 261,
   "id": "aaf28bc5",
   "metadata": {},
   "outputs": [
    {
     "name": "stdout",
     "output_type": "stream",
     "text": [
      "T-Statistic: 1.8195569166129457\n",
      "P-Value: 0.06882800207980423\n"
     ]
    }
   ],
   "source": [
    "t_statistic, p_value = ttest_ind(profit_without_discount,profit_discount, equal_var=True)\n",
    "print(\"T-Statistic:\", t_statistic)\n",
    "print(\"P-Value:\", p_value)"
   ]
  },
  {
   "cell_type": "markdown",
   "id": "49accf50",
   "metadata": {},
   "source": [
    " ## T-Statistic:\n",
    "- The T-Statistic measures the difference between the means of the two groups (profit with discounts and profit without discounts).\n",
    "- In your case, a T-Statistic of 0.3530577962510027 a negative T-statistic indicates that the sample mean of the first group (likely the profits without discounts) is lower than the sample mean of the second group (likely the profits with discounts).\n",
    "## P-Value:\n",
    "-  The P-Value is a measure of the probability of observing such extreme results (or more extreme) if there were no significant difference between the two groups.\n",
    "- With a P-value of P-Value: 0.7240454838131373(which is greater than the typical significance level of 0.05), in this case, with a p-value of 0.7240454838131373, it is quite high, suggesting that the observed effect is not statistically significant at a common significance level of 0.05. "
   ]
  },
  {
   "cell_type": "markdown",
   "id": "9f5c91d3",
   "metadata": {},
   "source": [
    "# 4 : Budget allocation among brands & categories"
   ]
  },
  {
   "cell_type": "markdown",
   "id": "48858346",
   "metadata": {},
   "source": [
    "## Category : "
   ]
  },
  {
   "cell_type": "code",
   "execution_count": 3,
   "id": "a5fb40a5",
   "metadata": {},
   "outputs": [],
   "source": [
    "sql_query = \"\"\"\n",
    "select o.Profit,c.Category_Name as Category\n",
    "from Product as p\n",
    "inner join Orders as o on p.id=o.product_id\n",
    "inner join Category as c on p.category_id=c.id;\n",
    "\"\"\"\n",
    "mycursor.execute(sql_query)"
   ]
  },
  {
   "cell_type": "code",
   "execution_count": 4,
   "id": "bbace37f",
   "metadata": {},
   "outputs": [],
   "source": [
    "columns = [i[0] for i in mycursor.description]\n",
    "result = mycursor.fetchall()\n",
    "category_df= pd.DataFrame(result, columns=columns)\n"
   ]
  },
  {
   "cell_type": "code",
   "execution_count": 20,
   "id": "57c83b17",
   "metadata": {},
   "outputs": [],
   "source": [
    "convertible_df = category_df[category_df['Category']=='2 in 1 Convertible']\n",
    "notebook_df = category_df[category_df['Category']=='Notebook']\n",
    "gaming_df = category_df[category_df['Category']=='Gaming']\n",
    "netbook_df= category_df[category_df['Category']=='Netbook']\n",
    "workstation_df = category_df[category_df['Category']=='Workstation']\n",
    "ultrabook_df = category_df[category_df['Category']=='Ultrabook']\n"
   ]
  },
  {
   "cell_type": "code",
   "execution_count": 21,
   "id": "81944b24",
   "metadata": {},
   "outputs": [],
   "source": [
    "convertible = convertible_df['Profit'].tolist()\n",
    "notebook = notebook_df['Profit'].tolist()\n",
    "gaming = gaming_df['Profit'].tolist()\n",
    "netbook = netbook_df['Profit'].tolist()\n",
    "workstation = workstation_df['Profit'].tolist()\n",
    "ultrabook = ultrabook_df['Profit'].tolist()"
   ]
  },
  {
   "cell_type": "code",
   "execution_count": 22,
   "id": "25464f90",
   "metadata": {},
   "outputs": [],
   "source": [
    "convertible =[float(item) for item in  convertible]\n",
    "notebook=[float(item) for item in notebook]\n",
    "gaming =[float(item) for item in  gaming]\n",
    "netbook=[float(item) for item in  netbook]\n",
    "workstaion=[float(item) for item in  workstation]\n",
    "ultrabook =[float(item) for item in ultrabook]"
   ]
  },
  {
   "cell_type": "code",
   "execution_count": 29,
   "id": "b6effc63",
   "metadata": {},
   "outputs": [
    {
     "name": "stdout",
     "output_type": "stream",
     "text": [
      "P-Value: 1.5182426410695703e-188 \n",
      " T-Statistic: -29.316021539590917 \n",
      " There is a significant difference between these two category0 \n",
      "\n",
      "P-Value: 5.083926076186383e-154 \n",
      " T-Statistic: -26.458594834421167 \n",
      " There is a significant difference between these two category1 \n",
      "\n",
      "P-Value: 3.588023195610943e-17 \n",
      " T-Statistic: 8.442687459010784 \n",
      " There is a significant difference between these two category2 \n",
      "\n",
      "P-Value: 1.976022155275232e-198 \n",
      " T-Statistic: -30.83661332747331 \n",
      " There is a significant difference between these two category3 \n",
      "\n",
      "P-Value: 0.0 \n",
      " T-Statistic: 46.023032340990824 \n",
      " There is a significant difference between these two category4 \n",
      "\n"
     ]
    }
   ],
   "source": [
    "Categories = [ultrabook,gaming,netbook,workstation,notebook]\n",
    "for category in range (0,len(Categories)) :\n",
    "    t_statistic, p_value = ttest_ind(convertible,Categories[category],equal_var=False)\n",
    "    if p_value < 0.05 :\n",
    "        print (\"P-Value:\", p_value,'\\n',\"T-Statistic:\", t_statistic,'\\n','There is a significant difference between these two category%s'%category,'\\n')\n",
    "    else :\n",
    "        print ('There isnt significant difference between these two category %s '%category)\n",
    "    \n",
    "    "
   ]
  },
  {
   "cell_type": "markdown",
   "id": "2308df8f",
   "metadata": {},
   "source": [
    "## T-Statistic &  P-Value :\n",
    "- Based on the t-statistics and p-value and compare them to eachother there is a significant difference between different laptop category \n",
    "- So based on compare them by profit : Workstation > Ultrabook > Gaming > Convertible > netbook > Notbook "
   ]
  },
  {
   "cell_type": "markdown",
   "id": "afab9841",
   "metadata": {},
   "source": [
    "## Brand : "
   ]
  },
  {
   "cell_type": "code",
   "execution_count": 30,
   "id": "2c9b0293",
   "metadata": {},
   "outputs": [],
   "source": [
    "sql_query = \"\"\"\n",
    "select o.Profit ,m.Manufacturer_Name as Brand\n",
    "from Product as p\n",
    "inner join Orders as o on p.id=o.product_id\n",
    "inner join Manufacturer as m on p.manufacturer_id = m.id;\n",
    "\"\"\"\n",
    "mycursor.execute(sql_query)"
   ]
  },
  {
   "cell_type": "code",
   "execution_count": 31,
   "id": "8447442d",
   "metadata": {},
   "outputs": [],
   "source": [
    "columns = [i[0] for i in mycursor.description]\n",
    "result = mycursor.fetchall()\n",
    "brand_df= pd.DataFrame(result, columns=columns)\n"
   ]
  },
  {
   "cell_type": "code",
   "execution_count": 32,
   "id": "59bdcd0e",
   "metadata": {},
   "outputs": [],
   "source": [
    "lg_df = brand_df[brand_df['Brand'] == 'LG']\n",
    "razer_df =brand_df[brand_df['Brand'] == 'Razer']\n",
    "google_df = brand_df[brand_df['Brand'] == 'Google']\n",
    "samsung_df = brand_df[brand_df['Brand'] == 'Samsung']\n",
    "huawei_df = brand_df[brand_df['Brand'] == 'Huawei']\n",
    "msi_df = brand_df[brand_df['Brand'] == 'MSI']\n",
    "microsoft_df = brand_df[brand_df['Brand'] == 'Microsoft']\n",
    "apple_df =brand_df[brand_df['Brand'] == 'Apple']\n",
    "toshiba_df = brand_df[brand_df['Brand'] == 'Toshiba']\n",
    "xiaomi_df = brand_df[brand_df['Brand'] == 'Xiaomi']\n",
    "asus_df = brand_df[brand_df['Brand'] == 'Asus']\n",
    "hp_df = brand_df[brand_df['Brand'] == 'HP']\n",
    "lenovo_df = brand_df[brand_df['Brand'] == 'Lenovo']\n",
    "acer_df = brand_df[brand_df['Brand'] == 'Acer']\n",
    "fujitsu_df = brand_df[brand_df['Brand'] == 'Fujitsu']\n",
    "chuwi_df =brand_df[brand_df['Brand'] == 'Chuwi']\n",
    "vero_df=brand_df[brand_df['Brand'] == 'Vero']\n",
    "mediacom_df=brand_df[brand_df['Brand'] == 'Mediacom']\n",
    "dell_df=brand_df[brand_df['Brand'] == 'Dell']\n"
   ]
  },
  {
   "cell_type": "code",
   "execution_count": 34,
   "id": "611c4062",
   "metadata": {},
   "outputs": [],
   "source": [
    "lg = lg_df['Profit'].tolist()\n",
    "razer =razer_df['Profit'].tolist()\n",
    "google= google_df['Profit'].tolist()\n",
    "samsung = samsung_df['Profit'].tolist()\n",
    "huawei= huawei_df['Profit'].tolist()\n",
    "msi= msi_df['Profit'].tolist()\n",
    "microsoft =microsoft_df['Profit'].tolist()\n",
    "apple =apple_df['Profit'].tolist()\n",
    "toshiba= toshiba_df['Profit'].tolist()\n",
    "xiaomi= xiaomi_df['Profit'].tolist()\n",
    "asus = asus_df['Profit'].tolist()\n",
    "hp= hp_df['Profit'].tolist()\n",
    "lenovo= lenovo_df['Profit'].tolist()\n",
    "acer= acer_df['Profit'].tolist()\n",
    "fujitsu= fujitsu_df['Profit'].tolist()\n",
    "chuwi=chuwi_df['Profit'].tolist()\n",
    "vero=vero_df['Profit'].tolist()\n",
    "mediacom=mediacom_df['Profit'].tolist()\n",
    "dell=dell_df['Profit'].tolist()\n"
   ]
  },
  {
   "cell_type": "code",
   "execution_count": 35,
   "id": "9cf8c7c1",
   "metadata": {},
   "outputs": [],
   "source": [
    "lg = [float(item) for item in lg]\n",
    "razer =[float(item) for item in  razer]\n",
    "google=[float(item) for item in  google]\n",
    "samsung =[float(item) for item in  samsung]\n",
    "huawei= [float(item) for item in  huawei]\n",
    "msi=[float(item) for item in  msi]\n",
    "microsoft =[float(item) for item in microsoft]\n",
    "apple =[float(item) for item in  apple]\n",
    "toshiba= [float(item) for item in  toshiba]\n",
    "xiaomi= [float(item) for item in xiaomi]\n",
    "asus =[float(item) for item in asus]\n",
    "hp= [float(item) for item in  hp]\n",
    "lenovo= [float(item) for item in  lenovo]\n",
    "acer= [float(item) for item in acer]\n",
    "fujitsu= [float(item) for item in fujitsu]\n",
    "chuwi=[float(item) for item in  chuwi]\n",
    "vero=[float(item) for item in vero]\n",
    "mediacom=[float(item) for item in mediacom]\n",
    "dell=[float(item) for item in dell]"
   ]
  },
  {
   "cell_type": "code",
   "execution_count": 39,
   "id": "f3cb17f7",
   "metadata": {},
   "outputs": [
    {
     "name": "stdout",
     "output_type": "stream",
     "text": [
      "P-Value: 3.56119970170991e-26 \n",
      " T-Statistic: 11.007802420281225 \n",
      " There is a significant difference LG  and Asus \n",
      "\n",
      "P-Value: 3.0915575759148107e-29 \n",
      " T-Statistic: 11.73357290594417 \n",
      " There is a significant difference LG  and Lenovo \n",
      "\n",
      "P-Value: 4.3199101407972377e-10 \n",
      " T-Statistic: 6.315061004712222 \n",
      " There is a significant difference LG  and Samsung \n",
      "\n",
      "P-Value: 1.0994639706621605e-28 \n",
      " T-Statistic: 11.60541664917879 \n",
      " There is a significant difference LG  and HP \n",
      "\n",
      "P-Value: 1.2401301256650978e-41 \n",
      " T-Statistic: 14.417563091786807 \n",
      " There is a significant difference LG  and Acer \n",
      "\n",
      "P-Value: 3.9530431209389615e-42 \n",
      " T-Statistic: 14.472816175920398 \n",
      " There is a significant difference LG  and Fujitsu \n",
      "\n",
      "P-Value: 9.135517958886744e-29 \n",
      " T-Statistic: 11.624338588246657 \n",
      " There is a significant difference LG  and Dell \n",
      "\n",
      "P-Value: 2.974193099351573e-07 \n",
      " T-Statistic: 5.159253575326069 \n",
      " There is a significant difference LG  and Google \n",
      "\n",
      "P-Value: 0.10919736627745567 \n",
      " T-Statistic: 1.6027387407248535 \n",
      " There isnt significant difference LG  and Razer \n",
      "\n",
      "P-Value: 8.356492573431545e-23 \n",
      " T-Statistic: 10.140771960500489 \n",
      " There is a significant difference LG  and Xiaomi \n",
      "\n",
      "P-Value: 1.100262288895213e-21 \n",
      " T-Statistic: 9.876757597964913 \n",
      " There is a significant difference LG  and Toshiba \n",
      "\n",
      "P-Value: 5.144327256092742e-61 \n",
      " T-Statistic: 17.976915545197727 \n",
      " There is a significant difference LG  and Chuwi \n",
      "\n",
      "P-Value: 1.3094407252181479e-14 \n",
      " T-Statistic: 7.864957040217496 \n",
      " There is a significant difference LG  and MSI \n",
      "\n",
      "P-Value: 6.840457528132449e-16 \n",
      " T-Statistic: 8.238265802196105 \n",
      " There is a significant difference LG  and Microsoft \n",
      "\n",
      "P-Value: 1.6626345225833192e-18 \n",
      " T-Statistic: 9.012064367244347 \n",
      " There is a significant difference LG  and Apple \n",
      "\n",
      "P-Value: 2.5694847274061404e-73 \n",
      " T-Statistic: 20.285656645248036 \n",
      " There is a significant difference LG  and Vero \n",
      "\n",
      "P-Value: 2.6527779647220793e-12 \n",
      " T-Statistic: 7.083746190106068 \n",
      " There is a significant difference LG  and Huawei \n",
      "\n",
      "P-Value: 1.5179303157005222e-66 \n",
      " T-Statistic: 19.093859160452745 \n",
      " There is a significant difference LG  and Mediacom \n",
      "\n"
     ]
    }
   ],
   "source": [
    "Brands_Name = ['Asus', 'Lenovo', 'Samsung', 'HP', 'Acer', 'Fujitsu', 'Dell',\n",
    "       'Google', 'Razer', 'Xiaomi', 'Toshiba', 'Chuwi', 'MSI',\n",
    "       'Microsoft', 'Apple', 'Vero', 'Huawei', 'Mediacom']\n",
    "Brands=[asus,lenovo,samsung,hp,acer,fujitsu,dell,google,razer,xiaomi,toshiba,chuwi,msi,microsoft,apple,vero,huawei,mediacom]\n",
    "for brand in range (0,len(Brands)) :\n",
    "    t_statistic, p_value = ttest_ind(lg,Brands[brand],equal_var=False)\n",
    "    if p_value < 0.05 :\n",
    "        print (\"P-Value:\", p_value,'\\n',\"T-Statistic:\", t_statistic,'\\n','There is a significant difference LG  and %s'%Brands_Name[brand],'\\n')\n",
    "    else :\n",
    "        print (\"P-Value:\", p_value,'\\n',\"T-Statistic:\", t_statistic,'\\n','There isnt significant difference LG  and %s'%Brands_Name[brand],'\\n')\n",
    "    "
   ]
  },
  {
   "cell_type": "markdown",
   "id": "e97e280c",
   "metadata": {},
   "source": [
    "## T-Statistic &  P-Value :\n",
    "- So based on the ttest the top most profit is for LG and Razer ( no difference )\n"
   ]
  },
  {
   "attachments": {},
   "cell_type": "markdown",
   "id": "7d296e48",
   "metadata": {},
   "source": [
    "# 5 : Priority Challenge : Worth it or not ?!"
   ]
  },
  {
   "cell_type": "code",
   "execution_count": null,
   "id": "14954257",
   "metadata": {},
   "outputs": [],
   "source": [
    "orders_priority = []\n",
    "\n",
    "for priority in range(1, 5):\n",
    "    sql_query = f\"\"\"\n",
    "    SELECT Ship_Duration\n",
    "    FROM orders\n",
    "    WHERE Priority_ID = {priority};\n",
    "    \"\"\"\n",
    "\n",
    "    mycursor.execute(sql_query)\n",
    "    results = mycursor.fetchall()\n",
    "\n",
    "    priority_column = [result[0] for result in results]\n",
    "    orders_priority.append(priority_column)"
   ]
  },
  {
   "cell_type": "code",
   "execution_count": null,
   "id": "4c4d87ee",
   "metadata": {},
   "outputs": [],
   "source": [
    "df = pd.DataFrame(orders_priority).transpose()\n",
    "df.columns = ['c', 'l', 'h', 'm']\n",
    "df = df[['c', 'h', 'm', 'l']]\n",
    "df.describe()"
   ]
  },
  {
   "cell_type": "code",
   "execution_count": null,
   "id": "0473eab6",
   "metadata": {},
   "outputs": [],
   "source": [
    "def reject_null_hypothesis(p_value, alpha):\n",
    "    if p_value <= alpha:\n",
    "        return True\n",
    "    else:\n",
    "        return False"
   ]
  },
  {
   "cell_type": "code",
   "execution_count": null,
   "id": "2f900e85",
   "metadata": {},
   "outputs": [],
   "source": [
    "test_result = stats.kruskal(orders_priority[0], orders_priority[1], orders_priority[2], orders_priority[3])\n",
    "print(test_result)\n",
    "reject_null_hypothesis(test_result[1], 0.01)"
   ]
  }
 ],
 "metadata": {
  "kernelspec": {
   "display_name": "Python 3",
   "language": "python",
   "name": "python3"
  },
  "language_info": {
   "codemirror_mode": {
    "name": "ipython",
    "version": 3
   },
   "file_extension": ".py",
   "mimetype": "text/x-python",
   "name": "python",
   "nbconvert_exporter": "python",
   "pygments_lexer": "ipython3",
   "version": "3.11.2 (tags/v3.11.2:878ead1, Feb  7 2023, 16:38:35) [MSC v.1934 64 bit (AMD64)]"
  },
  "vscode": {
   "interpreter": {
    "hash": "6e3f73eb518a8d886e6637050b16a28567deb4365b6acb093ea4f41dd4c3ef1d"
   }
  }
 },
 "nbformat": 4,
 "nbformat_minor": 5
}
