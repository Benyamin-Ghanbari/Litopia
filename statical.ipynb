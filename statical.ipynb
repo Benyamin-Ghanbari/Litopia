{
 "cells": [
  {
   "cell_type": "code",
   "execution_count": 1,
   "id": "0dd72eec",
   "metadata": {},
   "outputs": [],
   "source": [
    "import pandas as pd\n",
    "import mysql.connector\n",
    "from scipy.stats import ttest_ind\n",
    "import numpy as np\n",
    "import matplotlib.pyplot as plt\n",
    "import seaborn as sns"
   ]
  },
  {
   "cell_type": "markdown",
   "id": "8ef96859",
   "metadata": {},
   "source": [
    "## Connecting to DataBase"
   ]
  },
  {
   "cell_type": "code",
   "execution_count": 206,
   "id": "ca3598ff",
   "metadata": {},
   "outputs": [],
   "source": [
    "db = mysql.connector.connect(\n",
    "   host=\"localhost\",\n",
    "  user=\"root\",\n",
    "  password=\"Ben1204\",\n",
    "  database=\"Litopia\")\n",
    "mycursor = db.cursor()"
   ]
  },
  {
   "cell_type": "markdown",
   "id": "bd065118",
   "metadata": {},
   "source": [
    "# 2 : Impact of discount on Sales"
   ]
  },
  {
   "cell_type": "code",
   "execution_count": 240,
   "id": "a2ddfec0",
   "metadata": {},
   "outputs": [],
   "source": [
    "sql_query = \"\"\"\n",
    "SELECT\n",
    "    o.Quantity,\n",
    "    o.discount,\n",
    "    o.Price\n",
    "FROM product AS p\n",
    "INNER JOIN orders AS o ON p.ID = o.Product_ID;\n",
    "\"\"\"\n",
    "mycursor.execute(sql_query)"
   ]
  },
  {
   "cell_type": "code",
   "execution_count": 241,
   "id": "3c1f90ec",
   "metadata": {},
   "outputs": [],
   "source": [
    "columns = [i[0] for i in mycursor.description]\n",
    "result = mycursor.fetchall()\n",
    "laptop_df= pd.DataFrame(result, columns=columns)\n"
   ]
  },
  {
   "cell_type": "code",
   "execution_count": 242,
   "id": "55189842",
   "metadata": {
    "scrolled": true
   },
   "outputs": [],
   "source": [
    "discount_df = laptop_df[(laptop_df['discount'] > 0) ]\n",
    "without_discount_df = laptop_df[(laptop_df['discount'] == 0)]\n",
    "discount_sample = discount_df.sample(n=100000,random_state=4)\n",
    "without_discount_sample = without_discount_df.sample(n=100000,random_state=4)"
   ]
  },
  {
   "cell_type": "code",
   "execution_count": 234,
   "id": "38d0c083",
   "metadata": {},
   "outputs": [],
   "source": [
    "#discount_sample=discount_sample[discount_sample['Quantity']>=2]\n",
    "#without_discount_sample=without_discount_sample[without_discount_sample['Quantity']>=2]"
   ]
  },
  {
   "cell_type": "code",
   "execution_count": 249,
   "id": "ebf30c32",
   "metadata": {},
   "outputs": [
    {
     "name": "stdout",
     "output_type": "stream",
     "text": [
      "110694 110606\n"
     ]
    }
   ],
   "source": [
    "print(without_discount_sample['Quantity'].sum(),discount_sample['Quantity'].sum())"
   ]
  },
  {
   "cell_type": "markdown",
   "id": "dc50c6d9",
   "metadata": {},
   "source": [
    "## Total Quantity :\n",
    "- With Discouint : 110606\n",
    "- Without Discount: 110694"
   ]
  },
  {
   "cell_type": "code",
   "execution_count": 245,
   "id": "b91dc8ef",
   "metadata": {},
   "outputs": [
    {
     "name": "stdout",
     "output_type": "stream",
     "text": [
      "1.105427429675869 1.1064411244853478\n"
     ]
    }
   ],
   "source": [
    "print(discount_df['Quantity'].mean(),without_discount_df['Quantity'].mean())"
   ]
  },
  {
   "cell_type": "markdown",
   "id": "aa4a561a",
   "metadata": {},
   "source": [
    "## Avg Quantity : \n",
    "- With Discount :1.105427429675869 \n",
    "- Without Discount : 1.1064411244853478"
   ]
  },
  {
   "cell_type": "code",
   "execution_count": 246,
   "id": "ee2214a8",
   "metadata": {},
   "outputs": [],
   "source": [
    "quantity_discount= discount_sample ['Quantity'].tolist()\n",
    "quantity_without_discount = without_discount_sample['Quantity'].tolist()\n",
    "quantity_discount = [int(item) for item in quantity_discount ]\n",
    "quantity_without_discount = [int(item) for item in quantity_without_discount ]"
   ]
  },
  {
   "cell_type": "code",
   "execution_count": 247,
   "id": "4a5550a7",
   "metadata": {},
   "outputs": [
    {
     "name": "stdout",
     "output_type": "stream",
     "text": [
      "T-Statistic: 0.5408065211877862\n",
      "P-Value: 0.5886415498384536\n"
     ]
    }
   ],
   "source": [
    "t_statistic, p_value = ttest_ind(quantity_without_discount,quantity_discount, equal_var=True)\n",
    "print(\"T-Statistic:\", t_statistic)\n",
    "print(\"P-Value:\", p_value)"
   ]
  },
  {
   "cell_type": "markdown",
   "id": "09533032",
   "metadata": {},
   "source": [
    "## T-Statistic:\n",
    "- The t-statistic measures the difference between the means of the two groups (quantity with discounts and quantity without discounts) relative to the variation within each group. \n",
    "- A t-statistic of 0.5408 suggests that the difference in quantity is not significantly large.\n",
    "\n",
    "## P-Value:\n",
    "- The p-value represents the probability that you would observe the data you have if there were no real difference between the groups. In this case, a p-value of 0.5886 is relatively high. It means that there is a 58.86% chance of observing these results (or more extreme results) if there were no significant difference in the quantities between the two groups.\n",
    "\n",
    "- Since the p-value is greater than a typical significance level of 0.05 (a commonly chosen value), you would fail to reject the null hypothesis. The null hypothesis (H0) in this context would be that there is no significant difference in the quantities of items sold with and without discounts."
   ]
  },
  {
   "cell_type": "markdown",
   "id": "77fdbffd",
   "metadata": {},
   "source": [
    "# 3 : Impact of discount on profit "
   ]
  },
  {
   "cell_type": "markdown",
   "id": "5cdc1b1e",
   "metadata": {},
   "source": [
    "- I used the profit percentage relative to the original price for better accuracy :(Profit/Total_price)*100 "
   ]
  },
  {
   "cell_type": "code",
   "execution_count": 257,
   "id": "7abe4a3e",
   "metadata": {},
   "outputs": [],
   "source": [
    "sql_query = \"\"\"\n",
    "SELECT p.Model_Name, (o.Profit/o.Total_price)*100 as Profit, o.discount, o.Total_price\n",
    "FROM product AS p\n",
    "INNER JOIN orders AS o ON p.ID = o.Product_ID\n",
    "WHERE o.Total_price > o.Profit \n",
    "\"\"\"\n",
    "mycursor.execute(sql_query)\n"
   ]
  },
  {
   "cell_type": "code",
   "execution_count": 258,
   "id": "7fb6711c",
   "metadata": {},
   "outputs": [],
   "source": [
    "columns = [i[0] for i in mycursor.description]\n",
    "result = mycursor.fetchall()\n",
    "df= pd.DataFrame(result, columns=columns)\n"
   ]
  },
  {
   "cell_type": "code",
   "execution_count": 259,
   "id": "e6259a11",
   "metadata": {},
   "outputs": [],
   "source": [
    "df_discount = df[df['discount']>0]\n",
    "df_without_discount=df[df['discount']==0]\n",
    "discount_sample = df_discount.sample(n=100000,random_state=4)\n",
    "without_sample = df_without_discount.sample(n=100000,random_state=4)"
   ]
  },
  {
   "cell_type": "code",
   "execution_count": 260,
   "id": "ff48dda8",
   "metadata": {},
   "outputs": [],
   "source": [
    "profit_discount= discount_sample ['Profit'].tolist()\n",
    "profit_without_discount =without_sample ['Profit'].tolist()\n",
    "profit_discount = [float(item) for item in profit_discount ]\n",
    "profit_without_discount = [float(item) for item in profit_without_discount ]"
   ]
  },
  {
   "cell_type": "code",
   "execution_count": 261,
   "id": "aaf28bc5",
   "metadata": {},
   "outputs": [
    {
     "name": "stdout",
     "output_type": "stream",
     "text": [
      "T-Statistic: 1.8195569166129457\n",
      "P-Value: 0.06882800207980423\n"
     ]
    }
   ],
   "source": [
    "t_statistic, p_value = ttest_ind(profit_without_discount,profit_discount, equal_var=True)\n",
    "print(\"T-Statistic:\", t_statistic)\n",
    "print(\"P-Value:\", p_value)"
   ]
  },
  {
   "cell_type": "markdown",
   "id": "49accf50",
   "metadata": {},
   "source": [
    " ## T-Statistic:\n",
    "- The T-Statistic measures the difference between the means of the two groups (profit with discounts and profit without discounts).\n",
    "- In your case, a T-Statistic of 0.3530577962510027 a negative T-statistic indicates that the sample mean of the first group (likely the profits without discounts) is lower than the sample mean of the second group (likely the profits with discounts).\n",
    "## P-Value:\n",
    "-  The P-Value is a measure of the probability of observing such extreme results (or more extreme) if there were no significant difference between the two groups.\n",
    "- With a P-value of P-Value: 0.7240454838131373(which is greater than the typical significance level of 0.05), in this case, with a p-value of 0.7240454838131373, it is quite high, suggesting that the observed effect is not statistically significant at a common significance level of 0.05. "
   ]
  }
 ],
 "metadata": {
  "kernelspec": {
   "display_name": "Python 3 (ipykernel)",
   "language": "python",
   "name": "python3"
  },
  "language_info": {
   "codemirror_mode": {
    "name": "ipython",
    "version": 3
   },
   "file_extension": ".py",
   "mimetype": "text/x-python",
   "name": "python",
   "nbconvert_exporter": "python",
   "pygments_lexer": "ipython3",
   "version": "3.11.5"
  }
 },
 "nbformat": 4,
 "nbformat_minor": 5
}
